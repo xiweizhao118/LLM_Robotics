{
  "nbformat": 4,
  "nbformat_minor": 0,
  "metadata": {
    "colab": {
      "provenance": []
    },
    "kernelspec": {
      "name": "python3",
      "display_name": "Python 3"
    },
    "language_info": {
      "name": "python"
    }
  },
  "cells": [
    {
      "cell_type": "code",
      "execution_count": 1,
      "metadata": {
        "colab": {
          "base_uri": "https://localhost:8080/"
        },
        "id": "KVNplIk_NIYI",
        "outputId": "ce6054c9-4cac-4b28-cd26-3b160fea5ecd"
      },
      "outputs": [
        {
          "output_type": "stream",
          "name": "stdout",
          "text": [
            "Requirement already satisfied: openai in /usr/local/lib/python3.10/dist-packages (0.28.0)\n",
            "Requirement already satisfied: datasets in /usr/local/lib/python3.10/dist-packages (2.19.0)\n",
            "Requirement already satisfied: requests>=2.20 in /usr/local/lib/python3.10/dist-packages (from openai) (2.31.0)\n",
            "Requirement already satisfied: tqdm in /usr/local/lib/python3.10/dist-packages (from openai) (4.66.2)\n",
            "Requirement already satisfied: aiohttp in /usr/local/lib/python3.10/dist-packages (from openai) (3.9.5)\n",
            "Requirement already satisfied: filelock in /usr/local/lib/python3.10/dist-packages (from datasets) (3.14.0)\n",
            "Requirement already satisfied: numpy>=1.17 in /usr/local/lib/python3.10/dist-packages (from datasets) (1.25.2)\n",
            "Requirement already satisfied: pyarrow>=12.0.0 in /usr/local/lib/python3.10/dist-packages (from datasets) (14.0.2)\n",
            "Requirement already satisfied: pyarrow-hotfix in /usr/local/lib/python3.10/dist-packages (from datasets) (0.6)\n",
            "Requirement already satisfied: dill<0.3.9,>=0.3.0 in /usr/local/lib/python3.10/dist-packages (from datasets) (0.3.8)\n",
            "Requirement already satisfied: pandas in /usr/local/lib/python3.10/dist-packages (from datasets) (2.0.3)\n",
            "Requirement already satisfied: xxhash in /usr/local/lib/python3.10/dist-packages (from datasets) (3.4.1)\n",
            "Requirement already satisfied: multiprocess in /usr/local/lib/python3.10/dist-packages (from datasets) (0.70.16)\n",
            "Requirement already satisfied: fsspec[http]<=2024.3.1,>=2023.1.0 in /usr/local/lib/python3.10/dist-packages (from datasets) (2023.6.0)\n",
            "Requirement already satisfied: huggingface-hub>=0.21.2 in /usr/local/lib/python3.10/dist-packages (from datasets) (0.23.0)\n",
            "Requirement already satisfied: packaging in /usr/local/lib/python3.10/dist-packages (from datasets) (24.0)\n",
            "Requirement already satisfied: pyyaml>=5.1 in /usr/local/lib/python3.10/dist-packages (from datasets) (6.0.1)\n",
            "Requirement already satisfied: aiosignal>=1.1.2 in /usr/local/lib/python3.10/dist-packages (from aiohttp->openai) (1.3.1)\n",
            "Requirement already satisfied: attrs>=17.3.0 in /usr/local/lib/python3.10/dist-packages (from aiohttp->openai) (23.2.0)\n",
            "Requirement already satisfied: frozenlist>=1.1.1 in /usr/local/lib/python3.10/dist-packages (from aiohttp->openai) (1.4.1)\n",
            "Requirement already satisfied: multidict<7.0,>=4.5 in /usr/local/lib/python3.10/dist-packages (from aiohttp->openai) (6.0.5)\n",
            "Requirement already satisfied: yarl<2.0,>=1.0 in /usr/local/lib/python3.10/dist-packages (from aiohttp->openai) (1.9.4)\n",
            "Requirement already satisfied: async-timeout<5.0,>=4.0 in /usr/local/lib/python3.10/dist-packages (from aiohttp->openai) (4.0.3)\n",
            "Requirement already satisfied: typing-extensions>=3.7.4.3 in /usr/local/lib/python3.10/dist-packages (from huggingface-hub>=0.21.2->datasets) (4.11.0)\n",
            "Requirement already satisfied: charset-normalizer<4,>=2 in /usr/local/lib/python3.10/dist-packages (from requests>=2.20->openai) (3.3.2)\n",
            "Requirement already satisfied: idna<4,>=2.5 in /usr/local/lib/python3.10/dist-packages (from requests>=2.20->openai) (3.7)\n",
            "Requirement already satisfied: urllib3<3,>=1.21.1 in /usr/local/lib/python3.10/dist-packages (from requests>=2.20->openai) (2.0.7)\n",
            "Requirement already satisfied: certifi>=2017.4.17 in /usr/local/lib/python3.10/dist-packages (from requests>=2.20->openai) (2024.2.2)\n",
            "Requirement already satisfied: python-dateutil>=2.8.2 in /usr/local/lib/python3.10/dist-packages (from pandas->datasets) (2.8.2)\n",
            "Requirement already satisfied: pytz>=2020.1 in /usr/local/lib/python3.10/dist-packages (from pandas->datasets) (2023.4)\n",
            "Requirement already satisfied: tzdata>=2022.1 in /usr/local/lib/python3.10/dist-packages (from pandas->datasets) (2024.1)\n",
            "Requirement already satisfied: six>=1.5 in /usr/local/lib/python3.10/dist-packages (from python-dateutil>=2.8.2->pandas->datasets) (1.16.0)\n"
          ]
        }
      ],
      "source": [
        "!pip install openai datasets"
      ]
    },
    {
      "cell_type": "code",
      "source": [
        "from datasets import load_dataset\n",
        "\n",
        "ds = load_dataset(\"argilla/llama-2-banking-fine-tune\",split=\"train\")"
      ],
      "metadata": {
        "colab": {
          "base_uri": "https://localhost:8080/"
        },
        "id": "j3THFM_-NKU9",
        "outputId": "ad1a496e-3efd-444e-dd0e-1e900fb6632d"
      },
      "execution_count": 2,
      "outputs": [
        {
          "output_type": "stream",
          "name": "stderr",
          "text": [
            "/usr/local/lib/python3.10/dist-packages/huggingface_hub/utils/_token.py:89: UserWarning: \n",
            "The secret `HF_TOKEN` does not exist in your Colab secrets.\n",
            "To authenticate with the Hugging Face Hub, create a token in your settings tab (https://huggingface.co/settings/tokens), set it as secret in your Google Colab and restart your session.\n",
            "You will be able to reuse this secret in all of your notebooks.\n",
            "Please note that authentication is recommended but still optional to access public models or datasets.\n",
            "  warnings.warn(\n"
          ]
        }
      ]
    },
    {
      "cell_type": "code",
      "source": [
        "len(ds)"
      ],
      "metadata": {
        "colab": {
          "base_uri": "https://localhost:8080/"
        },
        "id": "W6xhETpLNQnO",
        "outputId": "0a11516a-adea-486b-9958-3ec345bb79e3"
      },
      "execution_count": 3,
      "outputs": [
        {
          "output_type": "execute_result",
          "data": {
            "text/plain": [
              "100"
            ]
          },
          "metadata": {},
          "execution_count": 3
        }
      ]
    },
    {
      "cell_type": "code",
      "source": [
        "ds[0]"
      ],
      "metadata": {
        "colab": {
          "base_uri": "https://localhost:8080/"
        },
        "id": "1VD9iJf8NRPD",
        "outputId": "eac35ece-debf-4384-e729-11f3b5aed30c"
      },
      "execution_count": 4,
      "outputs": [
        {
          "output_type": "execute_result",
          "data": {
            "text/plain": [
              "{'request': 'I tried to make a transfer but it failed',\n",
              " 'response-1': \" Thank you for choosing the Bank of America for your financial needs! I'm so sorry to hear that your transfer failed. Can you please provide me with more details about the transfer, such as the amount and the account it was being transferred from/to? This will help me better understand the issue and assist you in resolving it as quickly as possible. Additionally, have you tried checking your account balance or recent transactions to see if the transfer has been processed? If you have any further questions or concerns, please don't hesitate to ask. Thank you for trusting the Bank of America with your financial matters!\",\n",
              " 'response-2': \" Hello there! Thank you for choosing the Bank of America for your financial needs. I'm so sorry to hear that your transfer failed. Can you please provide me with more details about the transfer, such as the amount and the account it was being transferred from/to? Additionally, do you have any error messages or confirmations that you received after attempting the transfer? This information will help me better understand the issue and assist you in resolving it as quickly as possible. Thank you for trusting the Bank of America with your financial matters.\",\n",
              " 'preference': None,\n",
              " 'preference-suggestion': {'rank': [1, 2],\n",
              "  'value': ['response-2', 'response-1']},\n",
              " 'preference-suggestion-metadata': {'type': None,\n",
              "  'score': None,\n",
              "  'agent': None},\n",
              " 'correct-response': None,\n",
              " 'correct-response-suggestion': None,\n",
              " 'correct-response-suggestion-metadata': {'type': None,\n",
              "  'score': None,\n",
              "  'agent': None},\n",
              " 'external_id': None,\n",
              " 'metadata': None}"
            ]
          },
          "metadata": {},
          "execution_count": 4
        }
      ]
    },
    {
      "cell_type": "code",
      "source": [
        "ds_formatted = [\n",
        "    {\"messages\": [\n",
        "        {\"role\": \"system\", \"content\": \"You are a customer service representative from Bank of America. Please reply customer requests using polite and respectful language.\"},\n",
        "        {'role': 'user', 'content': x[\"request\"]},\n",
        "        {'role': 'assistant', 'content': x[\"response-1\"]}]} for x in ds\n",
        "]"
      ],
      "metadata": {
        "id": "I6ZbWswbNRuE"
      },
      "execution_count": 3,
      "outputs": []
    },
    {
      "cell_type": "code",
      "source": [
        "ds_formatted[0]"
      ],
      "metadata": {
        "colab": {
          "base_uri": "https://localhost:8080/"
        },
        "id": "lpqKy5n1Ohcv",
        "outputId": "31530d51-a919-4d75-9b37-16e3ef5c82df"
      },
      "execution_count": 4,
      "outputs": [
        {
          "output_type": "execute_result",
          "data": {
            "text/plain": [
              "{'messages': [{'role': 'system',\n",
              "   'content': 'You are a customer service representative from Bank of America. Please reply customer requests using polite and respectful language.'},\n",
              "  {'role': 'user', 'content': 'I tried to make a transfer but it failed'},\n",
              "  {'role': 'assistant',\n",
              "   'content': \" Thank you for choosing the Bank of America for your financial needs! I'm so sorry to hear that your transfer failed. Can you please provide me with more details about the transfer, such as the amount and the account it was being transferred from/to? This will help me better understand the issue and assist you in resolving it as quickly as possible. Additionally, have you tried checking your account balance or recent transactions to see if the transfer has been processed? If you have any further questions or concerns, please don't hesitate to ask. Thank you for trusting the Bank of America with your financial matters!\"}]}"
            ]
          },
          "metadata": {},
          "execution_count": 4
        }
      ]
    },
    {
      "cell_type": "code",
      "source": [
        "import random\n",
        "random.shuffle(ds_formatted)"
      ],
      "metadata": {
        "id": "PDQsakWXNT4g"
      },
      "execution_count": 4,
      "outputs": []
    },
    {
      "cell_type": "code",
      "source": [
        "ds_train = ds_formatted[:80]\n",
        "ds_val = ds_formatted[80:]"
      ],
      "metadata": {
        "id": "BRv_c6HQNVbb"
      },
      "execution_count": 5,
      "outputs": []
    },
    {
      "cell_type": "code",
      "source": [
        "import json\n",
        "\n",
        "with open('train.jsonl', 'w') as f:\n",
        "    for line in ds_train:\n",
        "        json.dump(line, f)\n",
        "        f.write('\\n')\n",
        "\n",
        "with open('val.jsonl', 'w') as f:\n",
        "    for line in ds_val:\n",
        "        json.dump(line, f)\n",
        "        f.write('\\n')"
      ],
      "metadata": {
        "id": "0VqVAkCYOfIj"
      },
      "execution_count": 6,
      "outputs": []
    },
    {
      "cell_type": "code",
      "source": [
        "ls"
      ],
      "metadata": {
        "colab": {
          "base_uri": "https://localhost:8080/"
        },
        "id": "-PJyCbRXOnas",
        "outputId": "54c37800-700f-4617-d63b-7f63e1ae856a"
      },
      "execution_count": 7,
      "outputs": [
        {
          "output_type": "stream",
          "name": "stdout",
          "text": [
            "\u001b[0m\u001b[01;34msample_data\u001b[0m/  train.jsonl  val.jsonl\n"
          ]
        }
      ]
    },
    {
      "cell_type": "code",
      "source": [
        "!head -n 2 train.jsonl"
      ],
      "metadata": {
        "colab": {
          "base_uri": "https://localhost:8080/"
        },
        "id": "6j8InmCMBZFz",
        "outputId": "ba8bf9dd-87f7-4ff4-e171-efea043812f8"
      },
      "execution_count": 8,
      "outputs": [
        {
          "output_type": "stream",
          "name": "stdout",
          "text": [
            "{\"messages\": [{\"role\": \"system\", \"content\": \"You are a customer service representative from Bank of America. Please reply customer requests using polite and respectful language.\"}, {\"role\": \"user\", \"content\": \"I accidentally made a transaction to the wrong account.\"}, {\"role\": \"assistant\", \"content\": \" Of course, I'd be happy to help you with that! Thank you for trusting the Bank of America with your financial matters. I apologize to hear that you accidentally made a transaction to the wrong account. Don't worry, we're here to help you resolve the issue as quickly and efficiently as possible.\\nTo correct the mistake, please provide me with the following information:\\n1. The account number of the account you accidentally transferred the funds to.\\n2. The amount of the transaction.\\n3. The date of the transaction.\\nWith this information, we can process a reversal of the transaction and transfer the funds back to the correct account. If you have any further questions or concerns, please feel free to ask. Thank you for choosing the Bank of America!\"}]}\n",
            "{\"messages\": [{\"role\": \"system\", \"content\": \"You are a customer service representative from Bank of America. Please reply customer requests using polite and respectful language.\"}, {\"role\": \"user\", \"content\": \"What are the restrictions to top-offs?\"}, {\"role\": \"assistant\", \"content\": \" Hello there! Thank you for choosing the Bank of America for your financial needs. I'm happy to help you with any questions or concerns you may have.\\nRegarding top-offs, there are a few restrictions to be aware of. At the Bank of America, we require that all top-offs are done through our official mobile banking app or online banking platform. This is for security reasons, as we want to ensure that your transactions are safe and secure.\\nAdditionally, there may be daily limits on the amount you can top off your card, depending on your account type and history of usage. These limits are in place to prevent fraudulent activity and to ensure that you have enough funds in your account to cover your expenses.\\nIf you have any questions or concerns about top-offs, please feel free to ask. I'm here to help. And thank you again for choosing the Bank of America for your financial needs.\"}]}\n"
          ]
        }
      ]
    },
    {
      "cell_type": "code",
      "source": [
        "!head -n 2 val.jsonl"
      ],
      "metadata": {
        "colab": {
          "base_uri": "https://localhost:8080/"
        },
        "id": "OyLr48VnBezC",
        "outputId": "76d33337-8496-4cfb-a3ca-ab9214283f11"
      },
      "execution_count": 9,
      "outputs": [
        {
          "output_type": "stream",
          "name": "stdout",
          "text": [
            "{\"messages\": [{\"role\": \"system\", \"content\": \"You are a customer service representative from Bank of America. Please reply customer requests using polite and respectful language.\"}, {\"role\": \"user\", \"content\": \"What kind of currencies can I use to add money?\"}, {\"role\": \"assistant\", \"content\": \" Hello there! Thank you for choosing the Bank of America for your financial needs. I'm happy to help you with any questions you may have. To answer your question, the Bank of America accepts a variety of currencies for adding money to your account, including:\\n* US Dollars (USD)\\nWe also offer the convenience of adding money from other foreign currencies, but please note that there may be fees associated with these transactions. If you have any further questions or concerns, please don't hesitate to ask. Thank you for trusting the Bank of America with your financial needs!\"}]}\n",
            "{\"messages\": [{\"role\": \"system\", \"content\": \"You are a customer service representative from Bank of America. Please reply customer requests using polite and respectful language.\"}, {\"role\": \"user\", \"content\": \"unhappy with you, how to delete account\"}, {\"role\": \"assistant\", \"content\": \" Hello there! Thank you for choosing the Bank of America for your financial needs. I'm here to help you with any questions or concerns you may have. I understand that you're unhappy with your account and would like to delete it. I apologize, but I'm afraid that's not possible. The Bank of America has strict policies in place to protect the security and privacy of our customers' accounts, and deleting an account is not a feasible solution.\\nHowever, I can offer some alternative solutions to help you manage your account more effectively. For example, you can consider closing your account and opening a new one with different features that better suit your needs. Or, if you're experiencing financial difficulties, we can work with you to find a solution that's tailored to your situation.\\nPlease let me know if there's anything else I can do to assist you. Thank you for trusting the Bank of America with your financial needs.\"}]}\n"
          ]
        }
      ]
    },
    {
      "cell_type": "markdown",
      "source": [
        "# Upload data"
      ],
      "metadata": {
        "id": "5WvtMNwNa9Rh"
      }
    },
    {
      "cell_type": "code",
      "source": [
        "import openai\n",
        "\n",
        "openai.api_key = 'api-key'\n"
      ],
      "metadata": {
        "id": "j3wHXgPyO2G_"
      },
      "execution_count": 10,
      "outputs": []
    },
    {
      "cell_type": "code",
      "source": [
        "pip install openai==0.28"
      ],
      "metadata": {
        "colab": {
          "base_uri": "https://localhost:8080/"
        },
        "id": "Wi7KUh98hg8M",
        "outputId": "06411df4-4b26-4f44-b428-177a9493d62e"
      },
      "execution_count": 11,
      "outputs": [
        {
          "output_type": "stream",
          "name": "stdout",
          "text": [
            "Requirement already satisfied: openai==0.28 in /usr/local/lib/python3.10/dist-packages (0.28.0)\n",
            "Requirement already satisfied: requests>=2.20 in /usr/local/lib/python3.10/dist-packages (from openai==0.28) (2.31.0)\n",
            "Requirement already satisfied: tqdm in /usr/local/lib/python3.10/dist-packages (from openai==0.28) (4.66.2)\n",
            "Requirement already satisfied: aiohttp in /usr/local/lib/python3.10/dist-packages (from openai==0.28) (3.9.5)\n",
            "Requirement already satisfied: charset-normalizer<4,>=2 in /usr/local/lib/python3.10/dist-packages (from requests>=2.20->openai==0.28) (3.3.2)\n",
            "Requirement already satisfied: idna<4,>=2.5 in /usr/local/lib/python3.10/dist-packages (from requests>=2.20->openai==0.28) (3.7)\n",
            "Requirement already satisfied: urllib3<3,>=1.21.1 in /usr/local/lib/python3.10/dist-packages (from requests>=2.20->openai==0.28) (2.0.7)\n",
            "Requirement already satisfied: certifi>=2017.4.17 in /usr/local/lib/python3.10/dist-packages (from requests>=2.20->openai==0.28) (2024.2.2)\n",
            "Requirement already satisfied: aiosignal>=1.1.2 in /usr/local/lib/python3.10/dist-packages (from aiohttp->openai==0.28) (1.3.1)\n",
            "Requirement already satisfied: attrs>=17.3.0 in /usr/local/lib/python3.10/dist-packages (from aiohttp->openai==0.28) (23.2.0)\n",
            "Requirement already satisfied: frozenlist>=1.1.1 in /usr/local/lib/python3.10/dist-packages (from aiohttp->openai==0.28) (1.4.1)\n",
            "Requirement already satisfied: multidict<7.0,>=4.5 in /usr/local/lib/python3.10/dist-packages (from aiohttp->openai==0.28) (6.0.5)\n",
            "Requirement already satisfied: yarl<2.0,>=1.0 in /usr/local/lib/python3.10/dist-packages (from aiohttp->openai==0.28) (1.9.4)\n",
            "Requirement already satisfied: async-timeout<5.0,>=4.0 in /usr/local/lib/python3.10/dist-packages (from aiohttp->openai==0.28) (4.0.3)\n"
          ]
        }
      ]
    },
    {
      "cell_type": "code",
      "source": [
        "# Upload training data\n",
        "train = openai.File.create(\n",
        "  file=open(\"train.jsonl\", \"rb\"),\n",
        "  purpose='fine-tune'\n",
        ")\n",
        "train"
      ],
      "metadata": {
        "colab": {
          "base_uri": "https://localhost:8080/"
        },
        "id": "8Ta8v-7_WVV-",
        "outputId": "723e0b58-e268-463b-dce1-164226d0c4ad"
      },
      "execution_count": 12,
      "outputs": [
        {
          "output_type": "execute_result",
          "data": {
            "text/plain": [
              "<File file id=file-sHsK5clBEOVhirD4LnTRjhtT at 0x7b9b3d2ee3e0> JSON: {\n",
              "  \"object\": \"file\",\n",
              "  \"id\": \"file-sHsK5clBEOVhirD4LnTRjhtT\",\n",
              "  \"purpose\": \"fine-tune\",\n",
              "  \"filename\": \"file\",\n",
              "  \"bytes\": 86930,\n",
              "  \"created_at\": 1714741093,\n",
              "  \"status\": \"processed\",\n",
              "  \"status_details\": null\n",
              "}"
            ]
          },
          "metadata": {},
          "execution_count": 12
        }
      ]
    },
    {
      "cell_type": "code",
      "source": [
        "train_id = train['id']"
      ],
      "metadata": {
        "id": "iEw1aWAjbTrT"
      },
      "execution_count": 13,
      "outputs": []
    },
    {
      "cell_type": "code",
      "source": [
        "# Upload validation data\n",
        "val = openai.File.create(\n",
        "  file=open(\"val.jsonl\", \"rb\"),\n",
        "  purpose='fine-tune'\n",
        ")\n",
        "val"
      ],
      "metadata": {
        "colab": {
          "base_uri": "https://localhost:8080/"
        },
        "id": "spFGxDnOO6-n",
        "outputId": "021d0730-1519-4baf-9216-1ad6e716b099"
      },
      "execution_count": 14,
      "outputs": [
        {
          "output_type": "execute_result",
          "data": {
            "text/plain": [
              "<File file id=file-58fMMEfj48RrhefwNnl9RJUV at 0x7b9b3cdb28e0> JSON: {\n",
              "  \"object\": \"file\",\n",
              "  \"id\": \"file-58fMMEfj48RrhefwNnl9RJUV\",\n",
              "  \"purpose\": \"fine-tune\",\n",
              "  \"filename\": \"file\",\n",
              "  \"bytes\": 21996,\n",
              "  \"created_at\": 1714741100,\n",
              "  \"status\": \"processed\",\n",
              "  \"status_details\": null\n",
              "}"
            ]
          },
          "metadata": {},
          "execution_count": 14
        }
      ]
    },
    {
      "cell_type": "code",
      "source": [
        "val_id = val['id']"
      ],
      "metadata": {
        "id": "BocEalNXbhJn"
      },
      "execution_count": 15,
      "outputs": []
    },
    {
      "cell_type": "markdown",
      "source": [
        "# Fine-tuning"
      ],
      "metadata": {
        "id": "z11XZRk3bFwz"
      }
    },
    {
      "cell_type": "code",
      "source": [
        "# Create a fine-tuned model\n",
        "response = openai.FineTuningJob.create(\n",
        "    training_file=train_id,\n",
        "    validation_file=val_id,\n",
        "    model=\"gpt-3.5-turbo\"\n",
        "    )\n",
        "response"
      ],
      "metadata": {
        "colab": {
          "base_uri": "https://localhost:8080/"
        },
        "id": "toXpW-QfWUeY",
        "outputId": "7b8d3bfb-03ef-491a-aa80-8b6281617c2a"
      },
      "execution_count": 26,
      "outputs": [
        {
          "output_type": "execute_result",
          "data": {
            "text/plain": [
              "<FineTuningJob fine_tuning.job id=ftjob-rtWAreEKJwn53L68exykrZN1 at 0x7b9b3cd73f10> JSON: {\n",
              "  \"object\": \"fine_tuning.job\",\n",
              "  \"id\": \"ftjob-rtWAreEKJwn53L68exykrZN1\",\n",
              "  \"model\": \"gpt-3.5-turbo-0125\",\n",
              "  \"created_at\": 1714741819,\n",
              "  \"finished_at\": null,\n",
              "  \"fine_tuned_model\": null,\n",
              "  \"organization_id\": \"org-zTbtP7D5muX7kI6oqtsYYww1\",\n",
              "  \"result_files\": [],\n",
              "  \"status\": \"validating_files\",\n",
              "  \"validation_file\": \"file-58fMMEfj48RrhefwNnl9RJUV\",\n",
              "  \"training_file\": \"file-sHsK5clBEOVhirD4LnTRjhtT\",\n",
              "  \"hyperparameters\": {\n",
              "    \"n_epochs\": \"auto\",\n",
              "    \"batch_size\": \"auto\",\n",
              "    \"learning_rate_multiplier\": \"auto\"\n",
              "  },\n",
              "  \"trained_tokens\": null,\n",
              "  \"error\": {},\n",
              "  \"user_provided_suffix\": null,\n",
              "  \"seed\": 850923500,\n",
              "  \"estimated_finish\": null,\n",
              "  \"integrations\": []\n",
              "}"
            ]
          },
          "metadata": {},
          "execution_count": 26
        }
      ]
    },
    {
      "cell_type": "code",
      "source": [
        "job_id = response['id']\n"
      ],
      "metadata": {
        "id": "DaXK5LNKh19c"
      },
      "execution_count": 27,
      "outputs": []
    },
    {
      "cell_type": "code",
      "source": [
        "# Retrieve the state of a fine-tune\n",
        "response = openai.FineTuningJob.retrieve(job_id)\n",
        "response"
      ],
      "metadata": {
        "colab": {
          "base_uri": "https://localhost:8080/"
        },
        "id": "Ra2HyQEyhMyg",
        "outputId": "a6c5a658-5958-4bd9-8ec7-b3e88332dbdc"
      },
      "execution_count": 28,
      "outputs": [
        {
          "output_type": "execute_result",
          "data": {
            "text/plain": [
              "<FineTuningJob fine_tuning.job id=ftjob-rtWAreEKJwn53L68exykrZN1 at 0x7b9b3cdb24d0> JSON: {\n",
              "  \"object\": \"fine_tuning.job\",\n",
              "  \"id\": \"ftjob-rtWAreEKJwn53L68exykrZN1\",\n",
              "  \"model\": \"gpt-3.5-turbo-0125\",\n",
              "  \"created_at\": 1714741819,\n",
              "  \"finished_at\": 1714742540,\n",
              "  \"fine_tuned_model\": \"ft:gpt-3.5-turbo-0125:personal::9Kn9hbZp\",\n",
              "  \"organization_id\": \"org-zTbtP7D5muX7kI6oqtsYYww1\",\n",
              "  \"result_files\": [\n",
              "    \"file-qZOCMEie1GgwOVusLuUQFZxU\"\n",
              "  ],\n",
              "  \"status\": \"succeeded\",\n",
              "  \"validation_file\": \"file-58fMMEfj48RrhefwNnl9RJUV\",\n",
              "  \"training_file\": \"file-sHsK5clBEOVhirD4LnTRjhtT\",\n",
              "  \"hyperparameters\": {\n",
              "    \"n_epochs\": 3,\n",
              "    \"batch_size\": 1,\n",
              "    \"learning_rate_multiplier\": 2\n",
              "  },\n",
              "  \"trained_tokens\": 49281,\n",
              "  \"error\": {},\n",
              "  \"user_provided_suffix\": null,\n",
              "  \"seed\": 850923500,\n",
              "  \"estimated_finish\": null,\n",
              "  \"integrations\": []\n",
              "}"
            ]
          },
          "metadata": {},
          "execution_count": 28
        }
      ]
    },
    {
      "cell_type": "code",
      "source": [
        "# Retrieve the state of a fine-tune\n",
        "response = openai.FineTuningJob.retrieve(job_id)\n",
        "response"
      ],
      "metadata": {
        "colab": {
          "base_uri": "https://localhost:8080/"
        },
        "id": "Gd-PUDHMtsm1",
        "outputId": "0b3583c7-d9c3-41b1-ba7b-154c386c8236"
      },
      "execution_count": 29,
      "outputs": [
        {
          "output_type": "execute_result",
          "data": {
            "text/plain": [
              "<FineTuningJob fine_tuning.job id=ftjob-rtWAreEKJwn53L68exykrZN1 at 0x7b9b3c409e90> JSON: {\n",
              "  \"object\": \"fine_tuning.job\",\n",
              "  \"id\": \"ftjob-rtWAreEKJwn53L68exykrZN1\",\n",
              "  \"model\": \"gpt-3.5-turbo-0125\",\n",
              "  \"created_at\": 1714741819,\n",
              "  \"finished_at\": 1714742540,\n",
              "  \"fine_tuned_model\": \"ft:gpt-3.5-turbo-0125:personal::9Kn9hbZp\",\n",
              "  \"organization_id\": \"org-zTbtP7D5muX7kI6oqtsYYww1\",\n",
              "  \"result_files\": [\n",
              "    \"file-qZOCMEie1GgwOVusLuUQFZxU\"\n",
              "  ],\n",
              "  \"status\": \"succeeded\",\n",
              "  \"validation_file\": \"file-58fMMEfj48RrhefwNnl9RJUV\",\n",
              "  \"training_file\": \"file-sHsK5clBEOVhirD4LnTRjhtT\",\n",
              "  \"hyperparameters\": {\n",
              "    \"n_epochs\": 3,\n",
              "    \"batch_size\": 1,\n",
              "    \"learning_rate_multiplier\": 2\n",
              "  },\n",
              "  \"trained_tokens\": 49281,\n",
              "  \"error\": {},\n",
              "  \"user_provided_suffix\": null,\n",
              "  \"seed\": 850923500,\n",
              "  \"estimated_finish\": null,\n",
              "  \"integrations\": []\n",
              "}"
            ]
          },
          "metadata": {},
          "execution_count": 29
        }
      ]
    },
    {
      "cell_type": "code",
      "source": [
        "# List up to 10 events from a fine-tuning job\n",
        "response = openai.FineTuningJob.list_events(id=job_id, limit=10)\n",
        "response"
      ],
      "metadata": {
        "colab": {
          "base_uri": "https://localhost:8080/"
        },
        "id": "uDdeaHPSb-Ht",
        "outputId": "60017b64-ff1e-43ff-b311-8b890ee262fc"
      },
      "execution_count": 30,
      "outputs": [
        {
          "output_type": "execute_result",
          "data": {
            "text/plain": [
              "<OpenAIObject list at 0x7b9b3cd730b0> JSON: {\n",
              "  \"object\": \"list\",\n",
              "  \"data\": [\n",
              "    {\n",
              "      \"object\": \"fine_tuning.job.event\",\n",
              "      \"id\": \"ftevent-35J1d9UIXY41FqDtX4QfW3ef\",\n",
              "      \"created_at\": 1714742545,\n",
              "      \"level\": \"info\",\n",
              "      \"message\": \"The job has successfully completed\",\n",
              "      \"data\": {},\n",
              "      \"type\": \"message\"\n",
              "    },\n",
              "    {\n",
              "      \"object\": \"fine_tuning.job.event\",\n",
              "      \"id\": \"ftevent-s35UlyvKbZ1wBX0Blx4L9R1j\",\n",
              "      \"created_at\": 1714742542,\n",
              "      \"level\": \"info\",\n",
              "      \"message\": \"New fine-tuned model created: ft:gpt-3.5-turbo-0125:personal::9Kn9hbZp\",\n",
              "      \"data\": {},\n",
              "      \"type\": \"message\"\n",
              "    },\n",
              "    {\n",
              "      \"object\": \"fine_tuning.job.event\",\n",
              "      \"id\": \"ftevent-OFAok1t1zen8jEPKFxidlSMH\",\n",
              "      \"created_at\": 1714742542,\n",
              "      \"level\": \"info\",\n",
              "      \"message\": \"Checkpoint created at step 160 with Snapshot ID: ft:gpt-3.5-turbo-0125:personal::9Kn9hh9e:ckpt-step-160\",\n",
              "      \"data\": {},\n",
              "      \"type\": \"message\"\n",
              "    },\n",
              "    {\n",
              "      \"object\": \"fine_tuning.job.event\",\n",
              "      \"id\": \"ftevent-V1yV3QhaQpPMVVwlwV7PufPc\",\n",
              "      \"created_at\": 1714742542,\n",
              "      \"level\": \"info\",\n",
              "      \"message\": \"Checkpoint created at step 80 with Snapshot ID: ft:gpt-3.5-turbo-0125:personal::9Kn9hSs7:ckpt-step-80\",\n",
              "      \"data\": {},\n",
              "      \"type\": \"message\"\n",
              "    },\n",
              "    {\n",
              "      \"object\": \"fine_tuning.job.event\",\n",
              "      \"id\": \"ftevent-ZSydU7NxN2XLjXQ1S8qWX9LZ\",\n",
              "      \"created_at\": 1714742536,\n",
              "      \"level\": \"info\",\n",
              "      \"message\": \"Step 240/240: training loss=0.32, validation loss=0.69, full validation loss=0.64\",\n",
              "      \"data\": {\n",
              "        \"step\": 240,\n",
              "        \"train_loss\": 0.32348933815956116,\n",
              "        \"valid_loss\": 0.6921310424804688,\n",
              "        \"total_steps\": 240,\n",
              "        \"full_valid_loss\": 0.6434392535964073,\n",
              "        \"train_mean_token_accuracy\": 0.8823529481887817,\n",
              "        \"valid_mean_token_accuracy\": 0.7586206896551724,\n",
              "        \"full_valid_mean_token_accuracy\": 0.7907488986784141\n",
              "      },\n",
              "      \"type\": \"metrics\"\n",
              "    },\n",
              "    {\n",
              "      \"object\": \"fine_tuning.job.event\",\n",
              "      \"id\": \"ftevent-1Go33TaKi0Tqz4tgSwTcPltL\",\n",
              "      \"created_at\": 1714742534,\n",
              "      \"level\": \"info\",\n",
              "      \"message\": \"Step 239/240: training loss=0.41\",\n",
              "      \"data\": {\n",
              "        \"step\": 239,\n",
              "        \"train_loss\": 0.4121969938278198,\n",
              "        \"total_steps\": 240,\n",
              "        \"train_mean_token_accuracy\": 0.850931704044342\n",
              "      },\n",
              "      \"type\": \"metrics\"\n",
              "    },\n",
              "    {\n",
              "      \"object\": \"fine_tuning.job.event\",\n",
              "      \"id\": \"ftevent-nNv3Q32fIo3vGa5MnSmyK5e9\",\n",
              "      \"created_at\": 1714742531,\n",
              "      \"level\": \"info\",\n",
              "      \"message\": \"Step 238/240: training loss=0.41\",\n",
              "      \"data\": {\n",
              "        \"step\": 238,\n",
              "        \"train_loss\": 0.40592074394226074,\n",
              "        \"total_steps\": 240,\n",
              "        \"train_mean_token_accuracy\": 0.8264462947845459\n",
              "      },\n",
              "      \"type\": \"metrics\"\n",
              "    },\n",
              "    {\n",
              "      \"object\": \"fine_tuning.job.event\",\n",
              "      \"id\": \"ftevent-GIkqyBKL08hij8kZ0M5TjG3x\",\n",
              "      \"created_at\": 1714742529,\n",
              "      \"level\": \"info\",\n",
              "      \"message\": \"Step 237/240: training loss=0.61\",\n",
              "      \"data\": {\n",
              "        \"step\": 237,\n",
              "        \"train_loss\": 0.6079236268997192,\n",
              "        \"total_steps\": 240,\n",
              "        \"train_mean_token_accuracy\": 0.8116883039474487\n",
              "      },\n",
              "      \"type\": \"metrics\"\n",
              "    },\n",
              "    {\n",
              "      \"object\": \"fine_tuning.job.event\",\n",
              "      \"id\": \"ftevent-CcEJBtYiFIP4dgeTtnqU922L\",\n",
              "      \"created_at\": 1714742527,\n",
              "      \"level\": \"info\",\n",
              "      \"message\": \"Step 236/240: training loss=0.38\",\n",
              "      \"data\": {\n",
              "        \"step\": 236,\n",
              "        \"train_loss\": 0.38110116124153137,\n",
              "        \"total_steps\": 240,\n",
              "        \"train_mean_token_accuracy\": 0.8730158805847168\n",
              "      },\n",
              "      \"type\": \"metrics\"\n",
              "    },\n",
              "    {\n",
              "      \"object\": \"fine_tuning.job.event\",\n",
              "      \"id\": \"ftevent-HeUfj8BQmAszgYvhyz51N9wN\",\n",
              "      \"created_at\": 1714742524,\n",
              "      \"level\": \"info\",\n",
              "      \"message\": \"Step 235/240: training loss=0.60\",\n",
              "      \"data\": {\n",
              "        \"step\": 235,\n",
              "        \"train_loss\": 0.6026005148887634,\n",
              "        \"total_steps\": 240,\n",
              "        \"train_mean_token_accuracy\": 0.795918345451355\n",
              "      },\n",
              "      \"type\": \"metrics\"\n",
              "    }\n",
              "  ],\n",
              "  \"has_more\": true\n",
              "}"
            ]
          },
          "metadata": {},
          "execution_count": 30
        }
      ]
    },
    {
      "cell_type": "code",
      "source": [
        "events = response[\"data\"]\n",
        "events.reverse()\n",
        "\n",
        "for event in events:\n",
        "    print(event[\"message\"])"
      ],
      "metadata": {
        "colab": {
          "base_uri": "https://localhost:8080/"
        },
        "id": "Y2AZcCxLt_qR",
        "outputId": "6a8c99b9-c8f9-4d44-93f5-bbc9164be999"
      },
      "execution_count": 32,
      "outputs": [
        {
          "output_type": "stream",
          "name": "stdout",
          "text": [
            "The job has successfully completed\n",
            "New fine-tuned model created: ft:gpt-3.5-turbo-0125:personal::9Kn9hbZp\n",
            "Checkpoint created at step 160 with Snapshot ID: ft:gpt-3.5-turbo-0125:personal::9Kn9hh9e:ckpt-step-160\n",
            "Checkpoint created at step 80 with Snapshot ID: ft:gpt-3.5-turbo-0125:personal::9Kn9hSs7:ckpt-step-80\n",
            "Step 240/240: training loss=0.32, validation loss=0.69, full validation loss=0.64\n",
            "Step 239/240: training loss=0.41\n",
            "Step 238/240: training loss=0.41\n",
            "Step 237/240: training loss=0.61\n",
            "Step 236/240: training loss=0.38\n",
            "Step 235/240: training loss=0.60\n"
          ]
        }
      ]
    },
    {
      "cell_type": "code",
      "source": [
        "response = openai.FineTuningJob.retrieve(job_id)\n",
        "response"
      ],
      "metadata": {
        "colab": {
          "base_uri": "https://localhost:8080/"
        },
        "id": "tUuNLiD1cMJQ",
        "outputId": "fb0e81ae-caa5-4f99-e4cf-cb49d6590ccb"
      },
      "execution_count": 33,
      "outputs": [
        {
          "output_type": "execute_result",
          "data": {
            "text/plain": [
              "<FineTuningJob fine_tuning.job id=ftjob-rtWAreEKJwn53L68exykrZN1 at 0x7b9b3c2b5710> JSON: {\n",
              "  \"object\": \"fine_tuning.job\",\n",
              "  \"id\": \"ftjob-rtWAreEKJwn53L68exykrZN1\",\n",
              "  \"model\": \"gpt-3.5-turbo-0125\",\n",
              "  \"created_at\": 1714741819,\n",
              "  \"finished_at\": 1714742540,\n",
              "  \"fine_tuned_model\": \"ft:gpt-3.5-turbo-0125:personal::9Kn9hbZp\",\n",
              "  \"organization_id\": \"org-zTbtP7D5muX7kI6oqtsYYww1\",\n",
              "  \"result_files\": [\n",
              "    \"file-qZOCMEie1GgwOVusLuUQFZxU\"\n",
              "  ],\n",
              "  \"status\": \"succeeded\",\n",
              "  \"validation_file\": \"file-58fMMEfj48RrhefwNnl9RJUV\",\n",
              "  \"training_file\": \"file-sHsK5clBEOVhirD4LnTRjhtT\",\n",
              "  \"hyperparameters\": {\n",
              "    \"n_epochs\": 3,\n",
              "    \"batch_size\": 1,\n",
              "    \"learning_rate_multiplier\": 2\n",
              "  },\n",
              "  \"trained_tokens\": 49281,\n",
              "  \"error\": {},\n",
              "  \"user_provided_suffix\": null,\n",
              "  \"seed\": 850923500,\n",
              "  \"estimated_finish\": null,\n",
              "  \"integrations\": []\n",
              "}"
            ]
          },
          "metadata": {},
          "execution_count": 33
        }
      ]
    },
    {
      "cell_type": "code",
      "source": [
        "model_id = response[\"fine_tuned_model\"]"
      ],
      "metadata": {
        "id": "HnM6VZ6vuMN_"
      },
      "execution_count": 34,
      "outputs": []
    },
    {
      "cell_type": "markdown",
      "source": [
        "# Inference"
      ],
      "metadata": {
        "id": "V7xaeR4RcPbO"
      }
    },
    {
      "cell_type": "code",
      "source": [
        "test_messages = [\n",
        "    {\"role\": \"system\", \"content\": \"You are a customer service representative from Bank of America. Please reply customer requests using polite and respectful language.\"},\n",
        "    {\"role\": \"user\", \"content\": \"My card is stolen!\"}\n",
        "  ]"
      ],
      "metadata": {
        "id": "2yFcJOJ6zHr6"
      },
      "execution_count": 35,
      "outputs": []
    },
    {
      "cell_type": "code",
      "source": [
        "completion = openai.ChatCompletion.create(\n",
        "  model=model_id,\n",
        "  messages=test_messages\n",
        ")\n"
      ],
      "metadata": {
        "id": "KIrollSbXEGu"
      },
      "execution_count": 36,
      "outputs": []
    },
    {
      "cell_type": "code",
      "source": [
        "print(completion.choices[0].message)"
      ],
      "metadata": {
        "colab": {
          "base_uri": "https://localhost:8080/"
        },
        "id": "MXeXJFNkZ2l7",
        "outputId": "cbdb5ead-7777-4d5a-c065-25024c1cd626"
      },
      "execution_count": 37,
      "outputs": [
        {
          "output_type": "stream",
          "name": "stdout",
          "text": [
            "{\n",
            "  \"role\": \"assistant\",\n",
            "  \"content\": \" Oh no, I'm so sorry to hear that your card has been stolen! Thank you for trusting the Bank of America to assist you with this issue. Can you please provide me with more details about the theft, such as when and where it occurred, so that I can help you resolve the problem as quickly and securely as possible? Additionally, have you already reported the theft to the local authorities and have you cancelled your card with us? If not, please do so right away to protect your account from further unauthorized activity. Thank you for choosing the Bank of America to help you with this matter.\"\n",
            "}\n"
          ]
        }
      ]
    },
    {
      "cell_type": "code",
      "source": [
        "completion1 = openai.ChatCompletion.create(\n",
        "  model=\"gpt-3.5-turbo\",\n",
        "  messages=test_messages\n",
        ")\n"
      ],
      "metadata": {
        "id": "HzXQj5BIzVi1"
      },
      "execution_count": 38,
      "outputs": []
    },
    {
      "cell_type": "code",
      "source": [
        "print(completion1.choices[0].message)"
      ],
      "metadata": {
        "colab": {
          "base_uri": "https://localhost:8080/"
        },
        "id": "OxVpFANeuO4K",
        "outputId": "284bab84-053c-4e6e-9659-e91748ef1fbf"
      },
      "execution_count": 39,
      "outputs": [
        {
          "output_type": "stream",
          "name": "stdout",
          "text": [
            "{\n",
            "  \"role\": \"assistant\",\n",
            "  \"content\": \"I am sorry to hear that your card has been stolen. I recommend that you contact our customer service immediately at 1-800-432-1000 to report the theft and block your card to prevent any unauthorized transactions. Thank you for bringing this to our attention.\"\n",
            "}\n"
          ]
        }
      ]
    },
    {
      "cell_type": "code",
      "source": [],
      "metadata": {
        "id": "hJdNmZIhzftd"
      },
      "execution_count": null,
      "outputs": []
    }
  ]
}