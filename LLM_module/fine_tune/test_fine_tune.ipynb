{
 "cells": [
  {
   "cell_type": "code",
   "execution_count": 8,
   "id": "9b989ee4-76c9-42b6-b259-1e2fc4344921",
   "metadata": {
    "tags": []
   },
   "outputs": [],
   "source": [
    "import openai, json"
   ]
  },
  {
   "cell_type": "code",
   "execution_count": 5,
   "id": "ab587e98-6c65-4d9e-b63e-70ea356f2220",
   "metadata": {
    "tags": []
   },
   "outputs": [],
   "source": [
    "model_id = 'model_id'\n",
    "openai.api_key = 'openai-api-key'"
   ]
  },
  {
   "cell_type": "code",
   "execution_count": 3,
   "id": "22d31ce0-3284-451a-b6c0-2c05c722e73b",
   "metadata": {
    "tags": []
   },
   "outputs": [],
   "source": [
    "test_messages = [\n",
    "    {\"role\": \"system\", \"content\": \"You are a robot assistant that can extract keywords from user's demands and help us save the keywords and corresponding parameters into a dictionary format.\"},\n",
    "    {\"role\": \"user\", \"content\": \"move the box forward 10cm\"}\n",
    "  ]"
   ]
  },
  {
   "cell_type": "code",
   "execution_count": 6,
   "id": "33d98acc-76cd-4117-983c-3559cbf080d0",
   "metadata": {
    "tags": []
   },
   "outputs": [],
   "source": [
    "completion = openai.ChatCompletion.create(\n",
    "  model=model_id,\n",
    "  messages=test_messages\n",
    ")"
   ]
  },
  {
   "cell_type": "code",
   "execution_count": 9,
   "id": "abf02e0f-aa09-47f3-8e62-59d37aef7572",
   "metadata": {
    "tags": []
   },
   "outputs": [
    {
     "data": {
      "text/plain": [
       "{'what': 'box',\n",
       " 'how': 'move',\n",
       " 'location': {'precise': 'False',\n",
       "  'relation': 'None',\n",
       "  'direction': 'forward',\n",
       "  'distance': '10cm'}}"
      ]
     },
     "execution_count": 9,
     "metadata": {},
     "output_type": "execute_result"
    }
   ],
   "source": [
    "gpt_reply = completion.choices[0].message\n",
    "reply_dict = json.loads(json.loads(gpt_reply['content']))\n",
    "reply_dict"
   ]
  }
 ],
 "metadata": {
  "kernelspec": {
   "display_name": "Python 3",
   "language": "python",
   "name": "python3"
  },
  "language_info": {
   "codemirror_mode": {
    "name": "ipython",
    "version": 3
   },
   "file_extension": ".py",
   "mimetype": "text/x-python",
   "name": "python",
   "nbconvert_exporter": "python",
   "pygments_lexer": "ipython3",
   "version": "3.10.12"
  }
 },
 "nbformat": 4,
 "nbformat_minor": 5
}
