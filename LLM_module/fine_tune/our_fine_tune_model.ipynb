{
 "cells": [
  {
   "cell_type": "markdown",
   "id": "6c1b03fc-a066-4f06-8dc1-79f286b3f2b7",
   "metadata": {},
   "source": [
    "## 1. Dataset preparation"
   ]
  },
  {
   "cell_type": "code",
   "execution_count": null,
   "id": "5b3f7ad4-2d84-4077-841b-47c1173ffef8",
   "metadata": {
    "tags": []
   },
   "outputs": [],
   "source": [
    "import json\n",
    "from dataset_dic import formatted_data\n",
    "ds_formatted = formatted_data()"
   ]
  },
  {
   "cell_type": "code",
   "execution_count": null,
   "id": "302db295-305a-482b-aca2-63a76f36948e",
   "metadata": {
    "tags": []
   },
   "outputs": [],
   "source": [
    "ds_formatted[0]"
   ]
  },
  {
   "cell_type": "code",
   "execution_count": null,
   "id": "5b3c9a3d-7847-4ee6-8287-f50834dac823",
   "metadata": {
    "tags": []
   },
   "outputs": [],
   "source": [
    "len(ds_formatted)"
   ]
  },
  {
   "cell_type": "code",
   "execution_count": null,
   "id": "f3b5edae-361e-40bb-8a23-38be7130fd06",
   "metadata": {
    "tags": []
   },
   "outputs": [],
   "source": [
    "import random\n",
    "random.shuffle(ds_formatted)"
   ]
  },
  {
   "cell_type": "code",
   "execution_count": null,
   "id": "42fd14b8-fd80-45e4-87bc-dd906c30c088",
   "metadata": {
    "tags": []
   },
   "outputs": [],
   "source": [
    "ds_train = ds_formatted[:12]\n",
    "ds_val = ds_formatted[12:]"
   ]
  },
  {
   "cell_type": "code",
   "execution_count": null,
   "id": "d0289da3-a0f0-455e-a14e-bf3fdb45a4c7",
   "metadata": {
    "tags": []
   },
   "outputs": [],
   "source": [
    "# preprocess content: dict to str\n",
    "for i in range(len(ds_formatted)):\n",
    "    init_dic = ds_formatted[i]['messages'][2]['content']\n",
    "    dic2json = json.dumps(init_dic, indent=4)\n",
    "    ds_formatted[i]['messages'][2]['content'] = dic2json"
   ]
  },
  {
   "cell_type": "code",
   "execution_count": null,
   "id": "97c6cbd3-0bdf-4f63-b1fe-ed0c37f2232b",
   "metadata": {
    "tags": []
   },
   "outputs": [],
   "source": [
    "import json\n",
    "\n",
    "with open('train.jsonl', 'w') as f:\n",
    "    for line in ds_train:\n",
    "        json.dump(line, f)\n",
    "        f.write('\\n')\n",
    "\n",
    "with open('val.jsonl', 'w') as f:\n",
    "    for line in ds_val:\n",
    "        json.dump(line, f)\n",
    "        f.write('\\n')"
   ]
  },
  {
   "cell_type": "code",
   "execution_count": null,
   "id": "77f6b8a9-21bc-4a4b-ab43-cf6fd73cfbac",
   "metadata": {
    "tags": []
   },
   "outputs": [],
   "source": [
    "ls"
   ]
  },
  {
   "cell_type": "code",
   "execution_count": null,
   "id": "bd90de6e-220d-46b9-9ef9-286bebeb99c8",
   "metadata": {
    "tags": []
   },
   "outputs": [],
   "source": [
    "!head -n 2 train.jsonl"
   ]
  },
  {
   "cell_type": "markdown",
   "id": "459d19eb-60a5-45ab-8214-90aceebc3a31",
   "metadata": {},
   "source": [
    "## 2. Upload data"
   ]
  },
  {
   "cell_type": "code",
   "execution_count": null,
   "id": "8d6aaa2b-8ed4-4072-baa8-df21aa6e213b",
   "metadata": {
    "tags": []
   },
   "outputs": [],
   "source": [
    "import openai\n",
    "\n",
    "openai.api_key = 'my_api_key_here'\n",
    "\n",
    "# pip install openai==0.28 # download the old version and then restart kernel"
   ]
  },
  {
   "cell_type": "code",
   "execution_count": null,
   "id": "f474f1df-d9c0-4e48-b116-9581cf0d8788",
   "metadata": {
    "tags": []
   },
   "outputs": [],
   "source": [
    "# Upload training data\n",
    "train = openai.File.create(\n",
    "  file=open(\"train.jsonl\", \"rb\"),\n",
    "  purpose='fine-tune'\n",
    ")\n",
    "train"
   ]
  },
  {
   "cell_type": "code",
   "execution_count": null,
   "id": "36b53fa7-fd1a-4255-870f-c09de31be49c",
   "metadata": {
    "tags": []
   },
   "outputs": [],
   "source": [
    "train_id = train['id']"
   ]
  },
  {
   "cell_type": "code",
   "execution_count": null,
   "id": "f241236b-9ab9-42ee-a53a-8662b771f99f",
   "metadata": {
    "tags": []
   },
   "outputs": [],
   "source": [
    "# Upload validation data\n",
    "val = openai.File.create(\n",
    "  file=open(\"val.jsonl\", \"rb\"),\n",
    "  purpose='fine-tune'\n",
    ")\n",
    "val"
   ]
  },
  {
   "cell_type": "code",
   "execution_count": null,
   "id": "48165132-b2d3-4f05-945a-1e1d37755467",
   "metadata": {
    "tags": []
   },
   "outputs": [],
   "source": [
    "val_id = val['id']"
   ]
  },
  {
   "cell_type": "markdown",
   "id": "ff263417-8064-44ff-b4e2-2bacfbc4c9a5",
   "metadata": {},
   "source": [
    "## 3. Fine tune"
   ]
  },
  {
   "cell_type": "code",
   "execution_count": null,
   "id": "e60b080b-2936-4b21-8470-88a146abfc77",
   "metadata": {
    "tags": []
   },
   "outputs": [],
   "source": [
    "# Create a fine-tuned model\n",
    "response = openai.FineTuningJob.create(\n",
    "    training_file=train_id,\n",
    "    validation_file=val_id,\n",
    "    model=\"gpt-3.5-turbo\"\n",
    "    )\n",
    "response"
   ]
  },
  {
   "cell_type": "code",
   "execution_count": null,
   "id": "a7f90702-222b-4c5e-a465-fabc2110d3eb",
   "metadata": {
    "tags": []
   },
   "outputs": [],
   "source": [
    "job_id = response['id']"
   ]
  },
  {
   "cell_type": "code",
   "execution_count": null,
   "id": "07cdfe78-a66a-45a6-bba8-9ef098174f2e",
   "metadata": {
    "tags": []
   },
   "outputs": [],
   "source": [
    "# Retrieve the state of a fine-tune\n",
    "response = openai.FineTuningJob.retrieve(job_id)\n",
    "response"
   ]
  },
  {
   "cell_type": "code",
   "execution_count": null,
   "id": "5df12752-92b7-49e5-8c41-5961538bf2c2",
   "metadata": {
    "tags": []
   },
   "outputs": [],
   "source": [
    "# List up to 10 events from a fine-tuning job\n",
    "response = openai.FineTuningJob.list_events(id=job_id, limit=10)\n",
    "response"
   ]
  },
  {
   "cell_type": "code",
   "execution_count": null,
   "id": "cb2f343a-eabb-419d-b53f-ab2e6af09ee1",
   "metadata": {
    "tags": []
   },
   "outputs": [],
   "source": [
    "events = response[\"data\"]\n",
    "events.reverse()\n",
    "\n",
    "for event in events:\n",
    "    print(event[\"message\"])"
   ]
  },
  {
   "cell_type": "code",
   "execution_count": null,
   "id": "6d518ec0-3fc0-46f9-b42c-966ae7ab16e9",
   "metadata": {
    "tags": []
   },
   "outputs": [],
   "source": [
    "response = openai.FineTuningJob.retrieve(job_id)\n",
    "response"
   ]
  },
  {
   "cell_type": "code",
   "execution_count": null,
   "id": "0eaa7e5d-f239-4f15-b731-c6ef0b86eb48",
   "metadata": {
    "tags": []
   },
   "outputs": [],
   "source": [
    "model_id = response[\"fine_tuned_model\"]"
   ]
  },
  {
   "cell_type": "markdown",
   "id": "03bfae4e-02ae-4e49-8875-9cbc037761f8",
   "metadata": {},
   "source": [
    "## 4. Inference"
   ]
  },
  {
   "cell_type": "code",
   "execution_count": null,
   "id": "0264992f-5c8d-4cbc-a54d-6e06dec0d886",
   "metadata": {
    "tags": []
   },
   "outputs": [],
   "source": [
    "model_id"
   ]
  },
  {
   "cell_type": "code",
   "execution_count": null,
   "id": "f13e2811-cf63-4b38-8bcf-3c68eea020b6",
   "metadata": {
    "tags": []
   },
   "outputs": [],
   "source": [
    "test_messages = [\n",
    "    {\"role\": \"system\", \"content\": \"You are a robot assistant that can extract keywords from user's demands and help us save the keywords and corresponding parameters into a dictionary format.\"},\n",
    "    {\"role\": \"user\", \"content\": \"move the box to (10,10) point\"}\n",
    "  ]"
   ]
  },
  {
   "cell_type": "code",
   "execution_count": null,
   "id": "781d930f-3c43-45f4-84c3-f53d1281df2c",
   "metadata": {
    "tags": []
   },
   "outputs": [],
   "source": [
    "completion = openai.ChatCompletion.create(\n",
    "  model=model_id,\n",
    "  messages=test_messages\n",
    ")"
   ]
  },
  {
   "cell_type": "code",
   "execution_count": null,
   "id": "0b5604c5-82fb-488f-818f-881915333e64",
   "metadata": {
    "tags": []
   },
   "outputs": [],
   "source": [
    "print(completion.choices[0].message)"
   ]
  },
  {
   "cell_type": "code",
   "execution_count": null,
   "id": "57c3d156-59a7-40e1-9807-534312aa147c",
   "metadata": {
    "tags": []
   },
   "outputs": [],
   "source": [
    "gpt_reply = completion.choices[0].message\n",
    "reply_dict = json.loads(gpt_reply['content'])\n",
    "reply_dict\n",
    "# type(gpt_reply['content'])"
   ]
  },
  {
   "cell_type": "code",
   "execution_count": null,
   "id": "b5486fdf-5b42-458f-ab46-3e4bc239f268",
   "metadata": {
    "tags": []
   },
   "outputs": [],
   "source": [
    "reply_dict['what']"
   ]
  },
  {
   "cell_type": "code",
   "execution_count": null,
   "id": "a62de821-ed6c-47f2-91cc-1e10b9326df2",
   "metadata": {
    "tags": []
   },
   "outputs": [],
   "source": [
    "completion1 = openai.ChatCompletion.create(\n",
    "  model=\"gpt-3.5-turbo\",\n",
    "  messages=test_messages\n",
    ")"
   ]
  },
  {
   "cell_type": "code",
   "execution_count": null,
   "id": "c2b5c630-c796-4ee1-a4f2-73b970b8fe0c",
   "metadata": {
    "tags": []
   },
   "outputs": [],
   "source": [
    "print(completion1.choices[0].message)"
   ]
  }
 ],
 "metadata": {
  "kernelspec": {
   "display_name": "Python 3",
   "language": "python",
   "name": "python3"
  },
  "language_info": {
   "codemirror_mode": {
    "name": "ipython",
    "version": 3
   },
   "file_extension": ".py",
   "mimetype": "text/x-python",
   "name": "python",
   "nbconvert_exporter": "python",
   "pygments_lexer": "ipython3",
   "version": "3.10.12"
  }
 },
 "nbformat": 4,
 "nbformat_minor": 5
}
