{
 "cells": [
  {
   "cell_type": "markdown",
   "id": "6c1b03fc-a066-4f06-8dc1-79f286b3f2b7",
   "metadata": {},
   "source": [
    "## 1. Dataset preparation"
   ]
  },
  {
   "cell_type": "code",
   "execution_count": 1,
   "id": "5b3f7ad4-2d84-4077-841b-47c1173ffef8",
   "metadata": {
    "tags": []
   },
   "outputs": [],
   "source": [
    "import json\n",
    "from dataset_dic import formatted_data\n",
    "ds_formatted = formatted_data()"
   ]
  },
  {
   "cell_type": "code",
   "execution_count": 2,
   "id": "302db295-305a-482b-aca2-63a76f36948e",
   "metadata": {
    "tags": []
   },
   "outputs": [
    {
     "data": {
      "text/plain": [
       "{'messages': [{'role': 'system',\n",
       "   'content': \"You are a robot assistant that can extract keywords from user's demands and help us save the keywords and corresponding parameters into a dictionary format.\"},\n",
       "  {'role': 'user',\n",
       "   'content': 'Move the cup forward 10 cm relative to the box'},\n",
       "  {'role': 'assistant',\n",
       "   'content': {'what': 'cup',\n",
       "    'how': 'move',\n",
       "    'location': {'precise': 'False',\n",
       "     'relation': 'box',\n",
       "     'direction': 'forward',\n",
       "     'distance': '10 cm'}}}]}"
      ]
     },
     "execution_count": 2,
     "metadata": {},
     "output_type": "execute_result"
    }
   ],
   "source": [
    "ds_formatted[0]"
   ]
  },
  {
   "cell_type": "code",
   "execution_count": 3,
   "id": "5b3c9a3d-7847-4ee6-8287-f50834dac823",
   "metadata": {
    "tags": []
   },
   "outputs": [
    {
     "data": {
      "text/plain": [
       "14"
      ]
     },
     "execution_count": 3,
     "metadata": {},
     "output_type": "execute_result"
    }
   ],
   "source": [
    "len(ds_formatted)"
   ]
  },
  {
   "cell_type": "code",
   "execution_count": 8,
   "id": "f3b5edae-361e-40bb-8a23-38be7130fd06",
   "metadata": {
    "tags": []
   },
   "outputs": [],
   "source": [
    "import random\n",
    "random.shuffle(ds_formatted)"
   ]
  },
  {
   "cell_type": "code",
   "execution_count": 9,
   "id": "42fd14b8-fd80-45e4-87bc-dd906c30c088",
   "metadata": {
    "tags": []
   },
   "outputs": [],
   "source": [
    "ds_train = ds_formatted[:10]\n",
    "ds_val = ds_formatted[10:]"
   ]
  },
  {
   "cell_type": "code",
   "execution_count": 17,
   "id": "d0289da3-a0f0-455e-a14e-bf3fdb45a4c7",
   "metadata": {
    "tags": []
   },
   "outputs": [],
   "source": [
    "# preprocess content: dict to str\n",
    "for i in range(len(ds_formatted)):\n",
    "    init_dic = ds_formatted[i]['messages'][2]['content']\n",
    "    dic2json = json.dumps(init_dic, indent=4)\n",
    "    ds_formatted[i]['messages'][2]['content'] = dic2json"
   ]
  },
  {
   "cell_type": "code",
   "execution_count": 18,
   "id": "97c6cbd3-0bdf-4f63-b1fe-ed0c37f2232b",
   "metadata": {
    "tags": []
   },
   "outputs": [],
   "source": [
    "import json\n",
    "\n",
    "with open('train.jsonl', 'w') as f:\n",
    "    for line in ds_train:\n",
    "        json.dump(line, f)\n",
    "        f.write('\\n')\n",
    "\n",
    "with open('val.jsonl', 'w') as f:\n",
    "    for line in ds_val:\n",
    "        json.dump(line, f)\n",
    "        f.write('\\n')"
   ]
  },
  {
   "cell_type": "code",
   "execution_count": 18,
   "id": "77f6b8a9-21bc-4a4b-ab43-cf6fd73cfbac",
   "metadata": {
    "tags": []
   },
   "outputs": [
    {
     "name": "stdout",
     "output_type": "stream",
     "text": [
      "dataset_dic.py                 our_fine_tune_model.ipynb  train.jsonl\n",
      "fine_tune_gpt_3_5_turbo.ipynb  \u001b[0m\u001b[01;34m__pycache__\u001b[0m/               val.jsonl\n"
     ]
    }
   ],
   "source": [
    "ls"
   ]
  },
  {
   "cell_type": "code",
   "execution_count": 19,
   "id": "bd90de6e-220d-46b9-9ef9-286bebeb99c8",
   "metadata": {
    "tags": []
   },
   "outputs": [
    {
     "name": "stdout",
     "output_type": "stream",
     "text": [
      "{\"messages\": [{\"role\": \"system\", \"content\": \"You are a robot assistant that can extract keywords from user's demands and help us save the keywords and corresponding parameters into a dictionary format.\"}, {\"role\": \"user\", \"content\": \"Slide the mouse pad closer to the keyboard\"}, {\"role\": \"assistant\", \"content\": {\"what\": \"mouse pad\", \"how\": \"move\", \"location\": {\"precise\": \"False\", \"relation\": \"keyboard\", \"direction\": \"closer\", \"distance\": \"None\"}}}]}\n",
      "{\"messages\": [{\"role\": \"system\", \"content\": \"You are a robot assistant that can extract keywords from user's demands and help us save the keywords and corresponding parameters into a dictionary format.\"}, {\"role\": \"user\", \"content\": \"Slide the vase towards the center of the table\"}, {\"role\": \"assistant\", \"content\": {\"what\": \"vase\", \"how\": \"move\", \"location\": {\"precise\": \"False\", \"relation\": \"table center\", \"direction\": \"toward\", \"distance\": \"None\"}}}]}\n"
     ]
    }
   ],
   "source": [
    "!head -n 2 train.jsonl"
   ]
  },
  {
   "cell_type": "markdown",
   "id": "459d19eb-60a5-45ab-8214-90aceebc3a31",
   "metadata": {},
   "source": [
    "## 2. Upload data"
   ]
  },
  {
   "cell_type": "code",
   "execution_count": 19,
   "id": "8d6aaa2b-8ed4-4072-baa8-df21aa6e213b",
   "metadata": {
    "tags": []
   },
   "outputs": [],
   "source": [
    "import openai\n",
    "\n",
    "openai.api_key = 'openai-api'\n",
    "\n",
    "# pip install openai==0.28 # download the old version and then restart kernel"
   ]
  },
  {
   "cell_type": "code",
   "execution_count": 20,
   "id": "f474f1df-d9c0-4e48-b116-9581cf0d8788",
   "metadata": {
    "tags": []
   },
   "outputs": [
    {
     "data": {
      "text/plain": [
       "<File file id=file-1dFLfKGOFZO4mFcvX95dRzno at 0x7fcf03bfd530> JSON: {\n",
       "  \"object\": \"file\",\n",
       "  \"id\": \"file-1dFLfKGOFZO4mFcvX95dRzno\",\n",
       "  \"purpose\": \"fine-tune\",\n",
       "  \"filename\": \"file\",\n",
       "  \"bytes\": 6108,\n",
       "  \"created_at\": 1715079745,\n",
       "  \"status\": \"processed\",\n",
       "  \"status_details\": null\n",
       "}"
      ]
     },
     "execution_count": 20,
     "metadata": {},
     "output_type": "execute_result"
    }
   ],
   "source": [
    "# Upload training data\n",
    "train = openai.File.create(\n",
    "  file=open(\"train.jsonl\", \"rb\"),\n",
    "  purpose='fine-tune'\n",
    ")\n",
    "train"
   ]
  },
  {
   "cell_type": "code",
   "execution_count": 21,
   "id": "36b53fa7-fd1a-4255-870f-c09de31be49c",
   "metadata": {
    "tags": []
   },
   "outputs": [],
   "source": [
    "train_id = train['id']"
   ]
  },
  {
   "cell_type": "code",
   "execution_count": 22,
   "id": "f241236b-9ab9-42ee-a53a-8662b771f99f",
   "metadata": {
    "tags": []
   },
   "outputs": [
    {
     "data": {
      "text/plain": [
       "<File file id=file-vrtMeOxKgQWu8JKKIbdvYUwZ at 0x7fcee9e27560> JSON: {\n",
       "  \"object\": \"file\",\n",
       "  \"id\": \"file-vrtMeOxKgQWu8JKKIbdvYUwZ\",\n",
       "  \"purpose\": \"fine-tune\",\n",
       "  \"filename\": \"file\",\n",
       "  \"bytes\": 2479,\n",
       "  \"created_at\": 1715079749,\n",
       "  \"status\": \"processed\",\n",
       "  \"status_details\": null\n",
       "}"
      ]
     },
     "execution_count": 22,
     "metadata": {},
     "output_type": "execute_result"
    }
   ],
   "source": [
    "# Upload validation data\n",
    "val = openai.File.create(\n",
    "  file=open(\"val.jsonl\", \"rb\"),\n",
    "  purpose='fine-tune'\n",
    ")\n",
    "val"
   ]
  },
  {
   "cell_type": "code",
   "execution_count": 23,
   "id": "48165132-b2d3-4f05-945a-1e1d37755467",
   "metadata": {
    "tags": []
   },
   "outputs": [],
   "source": [
    "val_id = val['id']"
   ]
  },
  {
   "cell_type": "markdown",
   "id": "ff263417-8064-44ff-b4e2-2bacfbc4c9a5",
   "metadata": {},
   "source": [
    "## 3. Fine tune"
   ]
  },
  {
   "cell_type": "code",
   "execution_count": 24,
   "id": "e60b080b-2936-4b21-8470-88a146abfc77",
   "metadata": {
    "tags": []
   },
   "outputs": [
    {
     "data": {
      "text/plain": [
       "<FineTuningJob fine_tuning.job id=ftjob-WDk5nbXleKqrubR1kn4FLiks at 0x7fcee82ae610> JSON: {\n",
       "  \"object\": \"fine_tuning.job\",\n",
       "  \"id\": \"ftjob-WDk5nbXleKqrubR1kn4FLiks\",\n",
       "  \"model\": \"gpt-3.5-turbo-0125\",\n",
       "  \"created_at\": 1715079757,\n",
       "  \"finished_at\": null,\n",
       "  \"fine_tuned_model\": null,\n",
       "  \"organization_id\": \"org-zTbtP7D5muX7kI6oqtsYYww1\",\n",
       "  \"result_files\": [],\n",
       "  \"status\": \"validating_files\",\n",
       "  \"validation_file\": \"file-vrtMeOxKgQWu8JKKIbdvYUwZ\",\n",
       "  \"training_file\": \"file-1dFLfKGOFZO4mFcvX95dRzno\",\n",
       "  \"hyperparameters\": {\n",
       "    \"n_epochs\": \"auto\",\n",
       "    \"batch_size\": \"auto\",\n",
       "    \"learning_rate_multiplier\": \"auto\"\n",
       "  },\n",
       "  \"trained_tokens\": null,\n",
       "  \"error\": {},\n",
       "  \"user_provided_suffix\": null,\n",
       "  \"seed\": 785827168,\n",
       "  \"estimated_finish\": null,\n",
       "  \"integrations\": []\n",
       "}"
      ]
     },
     "execution_count": 24,
     "metadata": {},
     "output_type": "execute_result"
    }
   ],
   "source": [
    "# Create a fine-tuned model\n",
    "response = openai.FineTuningJob.create(\n",
    "    training_file=train_id,\n",
    "    validation_file=val_id,\n",
    "    model=\"gpt-3.5-turbo\"\n",
    "    )\n",
    "response"
   ]
  },
  {
   "cell_type": "code",
   "execution_count": 25,
   "id": "a7f90702-222b-4c5e-a465-fabc2110d3eb",
   "metadata": {
    "tags": []
   },
   "outputs": [],
   "source": [
    "job_id = response['id']"
   ]
  },
  {
   "cell_type": "code",
   "execution_count": 26,
   "id": "07cdfe78-a66a-45a6-bba8-9ef098174f2e",
   "metadata": {
    "tags": []
   },
   "outputs": [
    {
     "data": {
      "text/plain": [
       "<FineTuningJob fine_tuning.job id=ftjob-WDk5nbXleKqrubR1kn4FLiks at 0x7fcee82d6d40> JSON: {\n",
       "  \"object\": \"fine_tuning.job\",\n",
       "  \"id\": \"ftjob-WDk5nbXleKqrubR1kn4FLiks\",\n",
       "  \"model\": \"gpt-3.5-turbo-0125\",\n",
       "  \"created_at\": 1715079757,\n",
       "  \"finished_at\": 1715080077,\n",
       "  \"fine_tuned_model\": \"ft:gpt-3.5-turbo-0125:personal::9MCxqkKh\",\n",
       "  \"organization_id\": \"org-zTbtP7D5muX7kI6oqtsYYww1\",\n",
       "  \"result_files\": [\n",
       "    \"file-bWlsMpamZOKUzxpDAK13d95z\"\n",
       "  ],\n",
       "  \"status\": \"succeeded\",\n",
       "  \"validation_file\": \"file-vrtMeOxKgQWu8JKKIbdvYUwZ\",\n",
       "  \"training_file\": \"file-1dFLfKGOFZO4mFcvX95dRzno\",\n",
       "  \"hyperparameters\": {\n",
       "    \"n_epochs\": 10,\n",
       "    \"batch_size\": 1,\n",
       "    \"learning_rate_multiplier\": 2\n",
       "  },\n",
       "  \"trained_tokens\": 11480,\n",
       "  \"error\": {},\n",
       "  \"user_provided_suffix\": null,\n",
       "  \"seed\": 785827168,\n",
       "  \"estimated_finish\": null,\n",
       "  \"integrations\": []\n",
       "}"
      ]
     },
     "execution_count": 26,
     "metadata": {},
     "output_type": "execute_result"
    }
   ],
   "source": [
    "# Retrieve the state of a fine-tune\n",
    "response = openai.FineTuningJob.retrieve(job_id)\n",
    "response"
   ]
  },
  {
   "cell_type": "code",
   "execution_count": 27,
   "id": "5df12752-92b7-49e5-8c41-5961538bf2c2",
   "metadata": {
    "tags": []
   },
   "outputs": [
    {
     "data": {
      "text/plain": [
       "<OpenAIObject list at 0x7fcee82d75b0> JSON: {\n",
       "  \"object\": \"list\",\n",
       "  \"data\": [\n",
       "    {\n",
       "      \"object\": \"fine_tuning.job.event\",\n",
       "      \"id\": \"ftevent-SWM7PjIBtz4nPl40LfBxf4qk\",\n",
       "      \"created_at\": 1715080082,\n",
       "      \"level\": \"info\",\n",
       "      \"message\": \"The job has successfully completed\",\n",
       "      \"data\": {},\n",
       "      \"type\": \"message\"\n",
       "    },\n",
       "    {\n",
       "      \"object\": \"fine_tuning.job.event\",\n",
       "      \"id\": \"ftevent-asfH2Alk7XrYgM06Fj3WVT04\",\n",
       "      \"created_at\": 1715080079,\n",
       "      \"level\": \"info\",\n",
       "      \"message\": \"New fine-tuned model created: ft:gpt-3.5-turbo-0125:personal::9MCxqkKh\",\n",
       "      \"data\": {},\n",
       "      \"type\": \"message\"\n",
       "    },\n",
       "    {\n",
       "      \"object\": \"fine_tuning.job.event\",\n",
       "      \"id\": \"ftevent-oPnVb0lOABVo7IjEbZLR1dMh\",\n",
       "      \"created_at\": 1715080078,\n",
       "      \"level\": \"info\",\n",
       "      \"message\": \"Checkpoint created at step 90 with Snapshot ID: ft:gpt-3.5-turbo-0125:personal::9MCxq16B:ckpt-step-90\",\n",
       "      \"data\": {},\n",
       "      \"type\": \"message\"\n",
       "    },\n",
       "    {\n",
       "      \"object\": \"fine_tuning.job.event\",\n",
       "      \"id\": \"ftevent-YmPlsXp5ikv07XbAizULPkeD\",\n",
       "      \"created_at\": 1715080078,\n",
       "      \"level\": \"info\",\n",
       "      \"message\": \"Checkpoint created at step 80 with Snapshot ID: ft:gpt-3.5-turbo-0125:personal::9MCxpdtR:ckpt-step-80\",\n",
       "      \"data\": {},\n",
       "      \"type\": \"message\"\n",
       "    },\n",
       "    {\n",
       "      \"object\": \"fine_tuning.job.event\",\n",
       "      \"id\": \"ftevent-Znl1sroyEXSmGLmRfHVMzDa0\",\n",
       "      \"created_at\": 1715080073,\n",
       "      \"level\": \"info\",\n",
       "      \"message\": \"Step 100/100: training loss=0.00, validation loss=0.02, full validation loss=0.02\",\n",
       "      \"data\": {\n",
       "        \"step\": 100,\n",
       "        \"train_loss\": 1.4024622885244753e-07,\n",
       "        \"valid_loss\": 0.018280285507885376,\n",
       "        \"total_steps\": 100,\n",
       "        \"full_valid_loss\": 0.02392525262153997,\n",
       "        \"train_mean_token_accuracy\": 1.0,\n",
       "        \"valid_mean_token_accuracy\": 0.9850746268656716,\n",
       "        \"full_valid_mean_token_accuracy\": 0.9925093632958801\n",
       "      },\n",
       "      \"type\": \"metrics\"\n",
       "    },\n",
       "    {\n",
       "      \"object\": \"fine_tuning.job.event\",\n",
       "      \"id\": \"ftevent-07sFiYjMlHSv568tz0fdghGv\",\n",
       "      \"created_at\": 1715080073,\n",
       "      \"level\": \"info\",\n",
       "      \"message\": \"Step 99/100: training loss=0.00, validation loss=0.41\",\n",
       "      \"data\": {\n",
       "        \"step\": 99,\n",
       "        \"train_loss\": 1.4901161193847656e-07,\n",
       "        \"valid_loss\": 0.40569738131850513,\n",
       "        \"total_steps\": 100,\n",
       "        \"train_mean_token_accuracy\": 1.0,\n",
       "        \"valid_mean_token_accuracy\": 0.9552238805970149\n",
       "      },\n",
       "      \"type\": \"metrics\"\n",
       "    },\n",
       "    {\n",
       "      \"object\": \"fine_tuning.job.event\",\n",
       "      \"id\": \"ftevent-dE3Tq756L8V7ZSrVMEgsOO8I\",\n",
       "      \"created_at\": 1715080071,\n",
       "      \"level\": \"info\",\n",
       "      \"message\": \"Step 98/100: training loss=0.00, validation loss=0.00\",\n",
       "      \"data\": {\n",
       "        \"step\": 98,\n",
       "        \"train_loss\": 1.4901161193847656e-07,\n",
       "        \"valid_loss\": 1.4233945020988805e-07,\n",
       "        \"total_steps\": 100,\n",
       "        \"train_mean_token_accuracy\": 1.0,\n",
       "        \"valid_mean_token_accuracy\": 1.0\n",
       "      },\n",
       "      \"type\": \"metrics\"\n",
       "    },\n",
       "    {\n",
       "      \"object\": \"fine_tuning.job.event\",\n",
       "      \"id\": \"ftevent-yuCfnMuYcwiyfZ3t8xoPqU0A\",\n",
       "      \"created_at\": 1715080069,\n",
       "      \"level\": \"info\",\n",
       "      \"message\": \"Step 97/100: training loss=0.00, validation loss=0.00\",\n",
       "      \"data\": {\n",
       "        \"step\": 97,\n",
       "        \"train_loss\": 1.467191310666749e-07,\n",
       "        \"valid_loss\": 0.0003257231278852983,\n",
       "        \"total_steps\": 100,\n",
       "        \"train_mean_token_accuracy\": 1.0,\n",
       "        \"valid_mean_token_accuracy\": 1.0\n",
       "      },\n",
       "      \"type\": \"metrics\"\n",
       "    },\n",
       "    {\n",
       "      \"object\": \"fine_tuning.job.event\",\n",
       "      \"id\": \"ftevent-iRhXTgR8V5rsggasjKBJucx1\",\n",
       "      \"created_at\": 1715080067,\n",
       "      \"level\": \"info\",\n",
       "      \"message\": \"Step 96/100: training loss=0.00, validation loss=0.02\",\n",
       "      \"data\": {\n",
       "        \"step\": 96,\n",
       "        \"train_loss\": 1.4449611285272113e-07,\n",
       "        \"valid_loss\": 0.01659623900456215,\n",
       "        \"total_steps\": 100,\n",
       "        \"train_mean_token_accuracy\": 1.0,\n",
       "        \"valid_mean_token_accuracy\": 0.9850746268656716\n",
       "      },\n",
       "      \"type\": \"metrics\"\n",
       "    },\n",
       "    {\n",
       "      \"object\": \"fine_tuning.job.event\",\n",
       "      \"id\": \"ftevent-eJqBvdqZJLSgeGjtYCljeDyc\",\n",
       "      \"created_at\": 1715080065,\n",
       "      \"level\": \"info\",\n",
       "      \"message\": \"Step 95/100: training loss=0.00, validation loss=0.42\",\n",
       "      \"data\": {\n",
       "        \"step\": 95,\n",
       "        \"train_loss\": 1.4449611285272113e-07,\n",
       "        \"valid_loss\": 0.41639077485497317,\n",
       "        \"total_steps\": 100,\n",
       "        \"train_mean_token_accuracy\": 1.0,\n",
       "        \"valid_mean_token_accuracy\": 0.9552238805970149\n",
       "      },\n",
       "      \"type\": \"metrics\"\n",
       "    }\n",
       "  ],\n",
       "  \"has_more\": true\n",
       "}"
      ]
     },
     "execution_count": 27,
     "metadata": {},
     "output_type": "execute_result"
    }
   ],
   "source": [
    "# List up to 10 events from a fine-tuning job\n",
    "response = openai.FineTuningJob.list_events(id=job_id, limit=10)\n",
    "response"
   ]
  },
  {
   "cell_type": "code",
   "execution_count": 28,
   "id": "cb2f343a-eabb-419d-b53f-ab2e6af09ee1",
   "metadata": {
    "tags": []
   },
   "outputs": [
    {
     "name": "stdout",
     "output_type": "stream",
     "text": [
      "Step 95/100: training loss=0.00, validation loss=0.42\n",
      "Step 96/100: training loss=0.00, validation loss=0.02\n",
      "Step 97/100: training loss=0.00, validation loss=0.00\n",
      "Step 98/100: training loss=0.00, validation loss=0.00\n",
      "Step 99/100: training loss=0.00, validation loss=0.41\n",
      "Step 100/100: training loss=0.00, validation loss=0.02, full validation loss=0.02\n",
      "Checkpoint created at step 80 with Snapshot ID: ft:gpt-3.5-turbo-0125:personal::9MCxpdtR:ckpt-step-80\n",
      "Checkpoint created at step 90 with Snapshot ID: ft:gpt-3.5-turbo-0125:personal::9MCxq16B:ckpt-step-90\n",
      "New fine-tuned model created: ft:gpt-3.5-turbo-0125:personal::9MCxqkKh\n",
      "The job has successfully completed\n"
     ]
    }
   ],
   "source": [
    "events = response[\"data\"]\n",
    "events.reverse()\n",
    "\n",
    "for event in events:\n",
    "    print(event[\"message\"])"
   ]
  },
  {
   "cell_type": "code",
   "execution_count": 29,
   "id": "6d518ec0-3fc0-46f9-b42c-966ae7ab16e9",
   "metadata": {
    "tags": []
   },
   "outputs": [
    {
     "data": {
      "text/plain": [
       "<FineTuningJob fine_tuning.job id=ftjob-WDk5nbXleKqrubR1kn4FLiks at 0x7fcee82d7100> JSON: {\n",
       "  \"object\": \"fine_tuning.job\",\n",
       "  \"id\": \"ftjob-WDk5nbXleKqrubR1kn4FLiks\",\n",
       "  \"model\": \"gpt-3.5-turbo-0125\",\n",
       "  \"created_at\": 1715079757,\n",
       "  \"finished_at\": 1715080077,\n",
       "  \"fine_tuned_model\": \"ft:gpt-3.5-turbo-0125:personal::9MCxqkKh\",\n",
       "  \"organization_id\": \"org-zTbtP7D5muX7kI6oqtsYYww1\",\n",
       "  \"result_files\": [\n",
       "    \"file-bWlsMpamZOKUzxpDAK13d95z\"\n",
       "  ],\n",
       "  \"status\": \"succeeded\",\n",
       "  \"validation_file\": \"file-vrtMeOxKgQWu8JKKIbdvYUwZ\",\n",
       "  \"training_file\": \"file-1dFLfKGOFZO4mFcvX95dRzno\",\n",
       "  \"hyperparameters\": {\n",
       "    \"n_epochs\": 10,\n",
       "    \"batch_size\": 1,\n",
       "    \"learning_rate_multiplier\": 2\n",
       "  },\n",
       "  \"trained_tokens\": 11480,\n",
       "  \"error\": {},\n",
       "  \"user_provided_suffix\": null,\n",
       "  \"seed\": 785827168,\n",
       "  \"estimated_finish\": null,\n",
       "  \"integrations\": []\n",
       "}"
      ]
     },
     "execution_count": 29,
     "metadata": {},
     "output_type": "execute_result"
    }
   ],
   "source": [
    "response = openai.FineTuningJob.retrieve(job_id)\n",
    "response"
   ]
  },
  {
   "cell_type": "code",
   "execution_count": 30,
   "id": "0eaa7e5d-f239-4f15-b731-c6ef0b86eb48",
   "metadata": {
    "tags": []
   },
   "outputs": [],
   "source": [
    "model_id = response[\"fine_tuned_model\"]"
   ]
  },
  {
   "cell_type": "markdown",
   "id": "03bfae4e-02ae-4e49-8875-9cbc037761f8",
   "metadata": {},
   "source": [
    "## 4. Inference"
   ]
  },
  {
   "cell_type": "code",
   "execution_count": 31,
   "id": "f13e2811-cf63-4b38-8bcf-3c68eea020b6",
   "metadata": {
    "tags": []
   },
   "outputs": [],
   "source": [
    "test_messages = [\n",
    "    {\"role\": \"system\", \"content\": \"You are a robot assistant that can extract keywords from user's demands and help us save the keywords and corresponding parameters into a dictionary format.\"},\n",
    "    {\"role\": \"user\", \"content\": \"move the box to (10,10) point\"}\n",
    "  ]"
   ]
  },
  {
   "cell_type": "code",
   "execution_count": 32,
   "id": "781d930f-3c43-45f4-84c3-f53d1281df2c",
   "metadata": {
    "tags": []
   },
   "outputs": [],
   "source": [
    "completion = openai.ChatCompletion.create(\n",
    "  model=model_id,\n",
    "  messages=test_messages\n",
    ")"
   ]
  },
  {
   "cell_type": "code",
   "execution_count": 33,
   "id": "0b5604c5-82fb-488f-818f-881915333e64",
   "metadata": {
    "tags": []
   },
   "outputs": [
    {
     "name": "stdout",
     "output_type": "stream",
     "text": [
      "{\n",
      "  \"role\": \"assistant\",\n",
      "  \"content\": \"\\\"{\\\\n    \\\\\\\"what\\\\\\\": \\\\\\\"box\\\\\\\",\\\\n    \\\\\\\"how\\\\\\\": \\\\\\\"move\\\\\\\",\\\\n    \\\\\\\"location\\\\\\\": {\\\\n        \\\\\\\"precise\\\\\\\": \\\\\\\"False\\\\\\\",\\\\n        \\\\\\\"relation\\\\\\\": \\\\\\\"None\\\\\\\",\\\\n        \\\\\\\"old\\\\\\\": \\\\\\\"None\\\\\\\",\\\\n        \\\\\\\"new\\\\\\\": \\\\\\\"(10,10)\\\\\\\"\\\\n    }\\\\n}\\\"\"\n",
      "}\n"
     ]
    }
   ],
   "source": [
    "print(completion.choices[0].message)"
   ]
  },
  {
   "cell_type": "code",
   "execution_count": 42,
   "id": "57c3d156-59a7-40e1-9807-534312aa147c",
   "metadata": {
    "tags": []
   },
   "outputs": [
    {
     "data": {
      "text/plain": [
       "{'what': 'box',\n",
       " 'how': 'move',\n",
       " 'location': {'precise': 'False',\n",
       "  'relation': 'None',\n",
       "  'old': 'None',\n",
       "  'new': '(10,10)'}}"
      ]
     },
     "execution_count": 42,
     "metadata": {},
     "output_type": "execute_result"
    }
   ],
   "source": [
    "gpt_reply = completion.choices[0].message\n",
    "reply_dict = json.loads(json.loads(gpt_reply['content']))\n",
    "reply_dict\n",
    "# type(gpt_reply['content'])"
   ]
  },
  {
   "cell_type": "code",
   "execution_count": 43,
   "id": "b5486fdf-5b42-458f-ab46-3e4bc239f268",
   "metadata": {
    "tags": []
   },
   "outputs": [
    {
     "data": {
      "text/plain": [
       "'box'"
      ]
     },
     "execution_count": 43,
     "metadata": {},
     "output_type": "execute_result"
    }
   ],
   "source": [
    "reply_dict['what']"
   ]
  },
  {
   "cell_type": "code",
   "execution_count": 44,
   "id": "a62de821-ed6c-47f2-91cc-1e10b9326df2",
   "metadata": {
    "tags": []
   },
   "outputs": [],
   "source": [
    "completion1 = openai.ChatCompletion.create(\n",
    "  model=\"gpt-3.5-turbo\",\n",
    "  messages=test_messages\n",
    ")"
   ]
  },
  {
   "cell_type": "code",
   "execution_count": 45,
   "id": "c2b5c630-c796-4ee1-a4f2-73b970b8fe0c",
   "metadata": {
    "tags": []
   },
   "outputs": [
    {
     "name": "stdout",
     "output_type": "stream",
     "text": [
      "{\n",
      "  \"role\": \"assistant\",\n",
      "  \"content\": \"Keywords: move, box, coordinates\\nParameters: \\n- Object: box\\n- Destination coordinates: (10, 10)\"\n",
      "}\n"
     ]
    }
   ],
   "source": [
    "print(completion1.choices[0].message)"
   ]
  }
 ],
 "metadata": {
  "kernelspec": {
   "display_name": "Python 3",
   "language": "python",
   "name": "python3"
  },
  "language_info": {
   "codemirror_mode": {
    "name": "ipython",
    "version": 3
   },
   "file_extension": ".py",
   "mimetype": "text/x-python",
   "name": "python",
   "nbconvert_exporter": "python",
   "pygments_lexer": "ipython3",
   "version": "3.10.12"
  }
 },
 "nbformat": 4,
 "nbformat_minor": 5
}
